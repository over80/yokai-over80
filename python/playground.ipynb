{
 "cells": [
  {
   "cell_type": "code",
   "execution_count": 27,
   "metadata": {},
   "outputs": [],
   "source": [
    "from pathlib import Path\n",
    "from collections import defaultdict\n",
    "import os\n"
   ]
  },
  {
   "cell_type": "code",
   "execution_count": 40,
   "metadata": {},
   "outputs": [],
   "source": [
    "#file_path = Path(\"../p-wo_nmc-wo_multi_num-tokenize.txt\")\n",
    "file_path = Path(\"../p-wo_nmc-tokenize.txt\")\n"
   ]
  },
  {
   "cell_type": "code",
   "execution_count": 41,
   "metadata": {},
   "outputs": [],
   "source": [
    "words = []\n",
    "with file_path.open() as file:\n",
    "    for line in file.readlines():\n",
    "        word, label = line.rstrip().split('\\t')\n",
    "        words.append((word, label))\n"
   ]
  },
  {
   "cell_type": "code",
   "execution_count": 42,
   "metadata": {},
   "outputs": [
    {
     "name": "stdout",
     "output_type": "stream",
     "text": [
      "1 14\n",
      "2 249\n",
      "3 1389\n",
      "4 4000\n",
      "5 7712\n",
      "6 9158\n",
      "7 7231\n",
      "8 3703\n",
      "9 1179\n",
      "10 245\n",
      "11 15\n"
     ]
    }
   ],
   "source": [
    "group = defaultdict(list)\n",
    "for word, label in words:\n",
    "    l = len(label.split(' '))\n",
    "\n",
    "    group[l].append((word, label))\n",
    "\n",
    "for l in sorted(group.keys()):\n",
    "    print(l, len(group[l]))"
   ]
  },
  {
   "cell_type": "code",
   "execution_count": 47,
   "metadata": {},
   "outputs": [],
   "source": [
    "with Path(\"sorted.txt\").open('w') as file:\n",
    "    for l in sorted(group.keys()):\n",
    "        for word, label in group[l]:\n",
    "            print(\"{}\\t{}\".format(word, label), file=file)\n"
   ]
  },
  {
   "cell_type": "code",
   "execution_count": null,
   "metadata": {},
   "outputs": [],
   "source": []
  }
 ],
 "metadata": {
  "interpreter": {
   "hash": "916dbcbb3f70747c44a77c7bcd40155683ae19c65e1c03b4aa3499c5328201f1"
  },
  "kernelspec": {
   "display_name": "Python 3.8.10 64-bit",
   "language": "python",
   "name": "python3"
  },
  "language_info": {
   "codemirror_mode": {
    "name": "ipython",
    "version": 3
   },
   "file_extension": ".py",
   "mimetype": "text/x-python",
   "name": "python",
   "nbconvert_exporter": "python",
   "pygments_lexer": "ipython3",
   "version": "3.8.10"
  },
  "orig_nbformat": 4
 },
 "nbformat": 4,
 "nbformat_minor": 2
}
